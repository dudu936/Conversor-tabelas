{
  "nbformat": 4,
  "nbformat_minor": 0,
  "metadata": {
    "colab": {
      "provenance": [],
      "mount_file_id": "1kMGkSDNfr_VnJSRwO5LYLv61-adYtPKB",
      "authorship_tag": "ABX9TyPU+z0wqEXdNZI5XffXH/C3",
      "include_colab_link": true
    },
    "kernelspec": {
      "name": "python3",
      "display_name": "Python 3"
    },
    "language_info": {
      "name": "python"
    }
  },
  "cells": [
    {
      "cell_type": "markdown",
      "metadata": {
        "id": "view-in-github",
        "colab_type": "text"
      },
      "source": [
        "<a href=\"https://colab.research.google.com/github/dudu936/ConverterPdfToExcel/blob/main/C%C3%B3pia_de_ConversonDeTabelas.ipynb\" target=\"_parent\"><img src=\"https://colab.research.google.com/assets/colab-badge.svg\" alt=\"Open In Colab\"/></a>"
      ]
    },
    {
      "cell_type": "code",
      "source": [
        "pip install tabula-py"
      ],
      "metadata": {
        "colab": {
          "base_uri": "https://localhost:8080/"
        },
        "id": "-dAKwMZkh1bB",
        "outputId": "fbc62f6d-0768-4386-85a0-664a4268c808"
      },
      "execution_count": 34,
      "outputs": [
        {
          "output_type": "stream",
          "name": "stdout",
          "text": [
            "Looking in indexes: https://pypi.org/simple, https://us-python.pkg.dev/colab-wheels/public/simple/\n",
            "Requirement already satisfied: tabula-py in /usr/local/lib/python3.10/dist-packages (2.7.0)\n",
            "Requirement already satisfied: pandas>=0.25.3 in /usr/local/lib/python3.10/dist-packages (from tabula-py) (1.5.3)\n",
            "Requirement already satisfied: numpy in /usr/local/lib/python3.10/dist-packages (from tabula-py) (1.22.4)\n",
            "Requirement already satisfied: distro in /usr/local/lib/python3.10/dist-packages (from tabula-py) (1.8.0)\n",
            "Requirement already satisfied: python-dateutil>=2.8.1 in /usr/local/lib/python3.10/dist-packages (from pandas>=0.25.3->tabula-py) (2.8.2)\n",
            "Requirement already satisfied: pytz>=2020.1 in /usr/local/lib/python3.10/dist-packages (from pandas>=0.25.3->tabula-py) (2022.7.1)\n",
            "Requirement already satisfied: six>=1.5 in /usr/local/lib/python3.10/dist-packages (from python-dateutil>=2.8.1->pandas>=0.25.3->tabula-py) (1.16.0)\n"
          ]
        }
      ]
    },
    {
      "cell_type": "code",
      "source": [
        "from pandas.core.window.expanding import Axis\n",
        "import tabula as pdf\n",
        "import pandas as pd\n",
        "from openpyxl import Workbook, load_workbook\n",
        "from openpyxl.utils.dataframe import dataframe_to_rows\n",
        "\n",
        "def create_excel_table(table, file, sheet_name=\"Inserção\"):\n",
        "    try:\n",
        "        wb = load_workbook(file)\n",
        "    except Exception as error:\n",
        "        print(f\"Não foi possível carregar o arquivo {file} devido ao erro {type(error).__name__}\")\n",
        "        wb = Workbook()\n",
        "    ws = wb.active\n",
        "    ws = wb.create_sheet(sheet_name)\n",
        "    ws = wb[sheet_name]\n",
        "    for row in dataframe_to_rows(table, index=False, header=True):\n",
        "        ws.append(row)\n",
        "    wb.save(file)\n",
        "\n",
        "def remove_rows(table, rows_to_remove=[],index_to_name=0,):\n",
        "    table.columns = table.iloc[index_to_name]\n",
        "    for index, row in table.iterrows():\n",
        "        values = row.values\n",
        "        for value in values:\n",
        "            for remove_value in rows_to_remove:\n",
        "                if remove_value in str(value):\n",
        "                    try:\n",
        "                        table = table.drop(index)\n",
        "                    except:\n",
        "                      pass\n",
        "    table = table.dropna(axis=1, how='all')\n",
        "    return table\n",
        "\n",
        "    \n",
        "def separator_columns(tables, separator=[], index_to_remove=0):\n",
        "    for column in separator:\n",
        "        try:\n",
        "            split_columns = tables[column].apply(lambda x: pd.Series(x.split(\" \")))\n",
        "            tables = pd.concat([tables, split_columns], axis=1).drop(columns=column)\n",
        "        except:\n",
        "            pass\n",
        "    try:\n",
        "      tables.columns = tables.iloc[index_to_remove - index_to_remove]\n",
        "      tables = tables.drop(index_to_remove)\n",
        "    except:\n",
        "      pass\n",
        "    return tables\n",
        "\n",
        "def remove_columns(table, columns_to_remove=[]):\n",
        "    for column in columns_to_remove:\n",
        "        try:\n",
        "            table = table.drop(column, axis=1)\n",
        "        except:\n",
        "            pass\n",
        "    return table\n",
        "\n",
        "def main(pdf_file=\"relatorio.pdf\", xlsx_file=\"relatorio.xlsx\", index=0, print_display=False, ignore=False,\n",
        "         columns=[], rows=[],separator=[]):\n",
        "    tables = pdf.read_pdf(pdf_file, pages=\"all\")\n",
        "    try:\n",
        "      if not columns and not rows and not separator and not index:\n",
        "        for table in tables:\n",
        "          if print_display:\n",
        "            display(table)\n",
        "          if ignore:\n",
        "            create_excel_table(table, xlsx_file)\n",
        "        raise\n",
        "      else:\n",
        "          for table in tables:\n",
        "            if rows:\n",
        "              table = remove_rows(table, rows_to_remove=rows,index_to_name=index)\n",
        "            if separator_columns:\n",
        "              table = separator_columns(table, separator=separator, index_to_remove=index)\n",
        "            if columns:\n",
        "              table = remove_columns(table, columns_to_remove=columns)\n",
        "            create_excel_table(table, xlsx_file)\n",
        "            if print_display:\n",
        "                display(table)\n",
        "          print(f\"Conversão do arquivo {pdf_file} para Excel concluída.\")\n",
        "    except Exception as error:\n",
        "      print(f\"Não foi possivel fazer a conversão! Ocorreu um erro do tipo {type(error).__name__}\")\n"
      ],
      "metadata": {
        "id": "HaPnUVVH2nX2"
      },
      "execution_count": 37,
      "outputs": []
    },
    {
      "cell_type": "code",
      "source": [
        "pdf_file = \"RELATORIO-18-05-2023.pdf\"\n",
        "xlsx_file = pdf_file[:-3] + \"xlsx\"\n",
        "rows=[\"C.Pagar: Nr. Lanc.\",\"COMPRA MERCADORIA\",\"Dt. Entrada\",\"dias\",\"Código Conta\",\"Prazo Indice\"]\n",
        "separator=[\"Embalagem UN Qt. P.Unit. Custo Fin.Ant.\",\"Filial Embalagem UN Qt.\",\"UN Qt. P.Unit. Custo Fin.Ant.\",\"Filial Embalagem UN\",\"Embalagem UN Qt.\",\"UN Qt. P.Unit.\",\"Qt. P.Unit. Custo Fin.Ant.\",\"P.Unit. Custo Fin.Ant. Custo Fin.Atual\",\"Custo Fin.Ant. Custo Fin.Atual Cód. Fiscal\",\"Custo Fin.Atual Cód. Fiscal Cód. Oper.\",\"Filial Embalagem\",\"Embalagem UN\",\"UN Qt.\",\"Qt. P.Unit. Custo\",\"P.Unit. Custo Fin.Ant.\",\"Custo Fin.Ant. Custo Fin.Atual\",\"Custo Fin.Atual Cód. Fiscal\",\"Cód. Fiscal Cód. Oper.\"]\n",
        "columns=[\"Filial\",\"Embalagem\",\"Custo Fin.Atual\",\"Custo\",\"Fin.Ant.\",\"Fin.Atual\",\"Cód. Fiscal\",\"Cód.\",\"Fiscal\",\"Cód. Oper.\",\"NaN\",\"nan\"]\n",
        "\n",
        "main(pdf_file=pdf_file,xlsx_file=xlsx_file,index=1,rows=rows,columns=columns,separator=separator)\n",
        "     \n"
      ],
      "metadata": {
        "id": "2e49XEa3e_Ll",
        "colab": {
          "base_uri": "https://localhost:8080/"
        },
        "outputId": "91e2aa51-2210-43cd-ced4-54784a60a2bc"
      },
      "execution_count": 38,
      "outputs": [
        {
          "output_type": "stream",
          "name": "stdout",
          "text": [
            "Conversão do arquivo RELATORIO-18-05-2023.pdf para Excel concluída.\n"
          ]
        }
      ]
    }
  ]
}